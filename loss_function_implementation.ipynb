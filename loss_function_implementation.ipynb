{
 "cells": [
  {
   "cell_type": "markdown",
   "id": "1d1344d9",
   "metadata": {},
   "source": [
    "# <center><span style='color:Green'>Implementing Different Loss Functions in Python</span></center>"
   ]
  },
  {
   "cell_type": "markdown",
   "id": "1017cf43",
   "metadata": {},
   "source": [
    "In this notebook you can find code implementation for 3 different types of loss function: mean absolute error (MAE), mean squared error (MSE),and log loss or binary cross entropy."
   ]
  },
  {
   "cell_type": "code",
   "execution_count": 1,
   "id": "325984dd",
   "metadata": {},
   "outputs": [],
   "source": [
    "import numpy as np"
   ]
  },
  {
   "cell_type": "code",
   "execution_count": 2,
   "id": "059b90c5",
   "metadata": {},
   "outputs": [],
   "source": [
    "# test data\n",
    "y_predicted = np.array([1,1,0,0,1])\n",
    "y_true = np.array([0.30,0.7,1,0,0.5])"
   ]
  },
  {
   "cell_type": "markdown",
   "id": "e721e782",
   "metadata": {},
   "source": [
    "### <span style = 'color:Green'> Mean Absolute Error (MAE) </span>"
   ]
  },
  {
   "cell_type": "markdown",
   "id": "daa1849c",
   "metadata": {},
   "source": [
    "$\\mathbf (MAE) = \\frac{1}{n}\\sum\\limits _{i=1} ^{n}abs(y_{i} - \\hat{y}_{i}) $"
   ]
  },
  {
   "cell_type": "code",
   "execution_count": 9,
   "id": "1d674d14",
   "metadata": {},
   "outputs": [
    {
     "name": "stdout",
     "output_type": "stream",
     "text": [
      "Total error: 2.5\n",
      "MAE: 0.5\n"
     ]
    },
    {
     "data": {
      "text/plain": [
       "0.5"
      ]
     },
     "execution_count": 9,
     "metadata": {},
     "output_type": "execute_result"
    }
   ],
   "source": [
    "def mae(y_predicted, y_true):\n",
    "    total_error = 0\n",
    "    for yp, yt in zip(y_predicted, y_true):\n",
    "        total_error += abs(yp - yt)\n",
    "    mae = total_error/len(y_predicted)\n",
    "    print('Total error:', total_error)\n",
    "    print('MAE:', mae)\n",
    "    return mae\n",
    "\n",
    "mae(y_predicted, y_true)"
   ]
  },
  {
   "cell_type": "code",
   "execution_count": 10,
   "id": "55e063a8",
   "metadata": {},
   "outputs": [
    {
     "data": {
      "text/plain": [
       "0.5"
      ]
     },
     "execution_count": 10,
     "metadata": {},
     "output_type": "execute_result"
    }
   ],
   "source": [
    "# using numpy\n",
    "def mae_np(y_predicted, y_true):\n",
    "    return np.mean(np.abs(y_predicted-y_true))\n",
    "mae_np(y_predicted, y_true)"
   ]
  },
  {
   "cell_type": "markdown",
   "id": "b6bbdf16",
   "metadata": {},
   "source": [
    "### <span style = 'color:Green'> Mean Squared Error (MSE) </span>"
   ]
  },
  {
   "cell_type": "markdown",
   "id": "ea550418",
   "metadata": {},
   "source": [
    "$\\mathbf (MAE) = \\frac{1}{n}\\sum\\limits _{i=1} ^{n}abs(y_{i} - \\hat{y}_{i})^{2} $"
   ]
  },
  {
   "cell_type": "code",
   "execution_count": 5,
   "id": "5ff2388c",
   "metadata": {},
   "outputs": [
    {
     "name": "stdout",
     "output_type": "stream",
     "text": [
      "Total error: 1.83\n",
      "MSE: 0.366\n"
     ]
    },
    {
     "data": {
      "text/plain": [
       "0.366"
      ]
     },
     "execution_count": 5,
     "metadata": {},
     "output_type": "execute_result"
    }
   ],
   "source": [
    "def mse(y_predicted, y_true):\n",
    "    total_error = 0\n",
    "    for yp, yt in zip (y_predicted, y_true):\n",
    "        total_error += (yp-yt)**2\n",
    "    mse = total_error/len(y_predicted)\n",
    "    print('Total error:', total_error)\n",
    "    print('MSE:', mse)\n",
    "    return mse\n",
    "\n",
    "mse(y_predicted, y_true)"
   ]
  },
  {
   "cell_type": "code",
   "execution_count": 8,
   "id": "1eaaa23c",
   "metadata": {},
   "outputs": [
    {
     "data": {
      "text/plain": [
       "0.366"
      ]
     },
     "execution_count": 8,
     "metadata": {},
     "output_type": "execute_result"
    }
   ],
   "source": [
    "# using numpy\n",
    "def mse_np(y_predicted, y_true):\n",
    "    return np.mean(np.square(y_predicted-y_true))\n",
    "mse_np(y_predicted, y_true)"
   ]
  },
  {
   "cell_type": "markdown",
   "id": "d3cc4b2c",
   "metadata": {},
   "source": [
    "### <span style = 'color:Green'> Bynary Cross Entropy </span>\n"
   ]
  },
  {
   "cell_type": "markdown",
   "id": "30bec0dc",
   "metadata": {},
   "source": [
    "$\\mathbf Logloss = -\\frac{1}{n}\\sum\\limits _{i=1} ^{n}y_{i}log(\\hat{y}_{i})+(1-y_{i})$"
   ]
  },
  {
   "cell_type": "code",
   "execution_count": 12,
   "id": "84f2dfc5",
   "metadata": {},
   "outputs": [
    {
     "data": {
      "text/plain": [
       "17.2696280766844"
      ]
     },
     "execution_count": 12,
     "metadata": {},
     "output_type": "execute_result"
    }
   ],
   "source": [
    "epsilon = 1e-15\n",
    "def log_loss(y_true, y_predicted):\n",
    "    y_predicted_new = [max(i,epsilon) for i in y_predicted]\n",
    "    y_predicted_new = [min(i,1-epsilon) for i in y_predicted_new]\n",
    "    y_predicted_new = np.array(y_predicted_new)\n",
    "    return -np.mean(y_true*np.log(y_predicted_new)+(1-y_true)*np.log(1-y_predicted_new))\n",
    "\n",
    "log_loss(y_true, y_predicted)\n",
    "\n"
   ]
  }
 ],
 "metadata": {
  "kernelspec": {
   "display_name": "Python 3",
   "language": "python",
   "name": "python3"
  },
  "language_info": {
   "codemirror_mode": {
    "name": "ipython",
    "version": 3
   },
   "file_extension": ".py",
   "mimetype": "text/x-python",
   "name": "python",
   "nbconvert_exporter": "python",
   "pygments_lexer": "ipython3",
   "version": "3.8.8"
  }
 },
 "nbformat": 4,
 "nbformat_minor": 5
}
